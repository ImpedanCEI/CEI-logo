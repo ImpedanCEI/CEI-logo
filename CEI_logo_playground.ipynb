{
 "cells": [
  {
   "cell_type": "code",
   "execution_count": null,
   "metadata": {},
   "outputs": [],
   "source": [
    "import sys\n",
    "import numpy as np\n",
    "import pyvista as pv\n",
    "import matplotlib.pyplot as plt\n",
    "from tqdm import tqdm\n",
    "\n",
    "sys.path.append('../wakis/')\n",
    "\n",
    "from wakis import SolverFIT3D\n",
    "from wakis import GridFIT3D \n",
    "from wakis import WakeSolver\n",
    "\n",
    "# ---------- Domain setup ---------\n",
    "# Number of mesh cells\n",
    "Nx = 100\n",
    "Ny = 100\n",
    "Nz = 161\n",
    "#dt = 2.187760221e-12 # CST\n",
    "\n",
    "# Embedded boundaries\n",
    "stl_cavity = 'stl/cavity_vacuum.stl' \n",
    "stl_shell = 'stl/cavity_shell.stl'\n",
    "stl_letters = 'stl/CEI_stl_readex_pro_700.stl'\n",
    "\n",
    "stl_solids = {'cavity': stl_cavity, \n",
    "              'shell': stl_shell,\n",
    "              'letters' : stl_letters}\n",
    "\n",
    "stl_materials = {'cavity': 'vacuum', \n",
    "                 'shell': [30, 1.0, 30],\n",
    "                 'letters' : 'pec'}\n",
    "\n",
    "stl_rotate = {'cavity': [0., 0., 0.],\n",
    "                'shell': [0., 0., 0.],\n",
    "                'letters' : [90, -90, 0]}\n",
    "\n",
    "stl_translate = {'cavity': [0., 0., 0.],\n",
    "                 'shell': [0., 0., 0.],\n",
    "                 'letters' : [50, 0, 0]}\n",
    "\n",
    "\n",
    "stl_scale = {'cavity': [1., 1., 1.],\n",
    "                 'shell': [1., 1., 1.],\n",
    "                 'letters' : [1.e-3, 1.e-3, 1.e-3]} #[0.7e-2, 0.4e-2, 0.4e-2]}\n",
    "\n",
    "# Domain bounds\n",
    "letters = pv.read(stl_letters) \\\n",
    "        .rotate_x(stl_rotate['letters'][0]) \\\n",
    "        .rotate_y(stl_rotate['letters'][1]) \\\n",
    "        .rotate_z(stl_rotate['letters'][2]) \\\n",
    "        .translate(stl_translate['letters']) \\\n",
    "        .scale(stl_scale['letters'])\n",
    "\n",
    "surf = pv.read(stl_shell)+letters"
   ]
  },
  {
   "cell_type": "markdown",
   "metadata": {},
   "source": [
    "Inspect the imported geometry using interactive plotting:"
   ]
  },
  {
   "cell_type": "code",
   "execution_count": null,
   "metadata": {},
   "outputs": [],
   "source": [
    "p = pv.Plotter()\n",
    "p.add_mesh_clip_box(surf, color='white', rotation_enabled=False)\n",
    "p.add_axes()\n",
    "p.camera_position = 'zx'\n",
    "p.show()"
   ]
  },
  {
   "cell_type": "markdown",
   "metadata": {},
   "source": [
    "Generate the simulation grid and inspect it:"
   ]
  },
  {
   "cell_type": "code",
   "execution_count": null,
   "metadata": {},
   "outputs": [],
   "source": [
    "xmin, xmax, ymin, ymax, zmin, zmax = surf.bounds\n",
    "# set grid and geometry\n",
    "grid = GridFIT3D(xmin, xmax, ymin, ymax, zmin, zmax, Nx, Ny, Nz, \n",
    "                stl_solids=stl_solids, \n",
    "                stl_materials=stl_materials,\n",
    "                stl_scale=stl_scale,\n",
    "                stl_rotate=stl_rotate,\n",
    "                stl_translate=stl_translate)"
   ]
  },
  {
   "cell_type": "code",
   "execution_count": null,
   "metadata": {},
   "outputs": [],
   "source": [
    "grid.inspect()"
   ]
  },
  {
   "cell_type": "markdown",
   "metadata": {},
   "source": [
    "Add the beam source and define other solver parameters:"
   ]
  },
  {
   "cell_type": "code",
   "execution_count": null,
   "metadata": {},
   "outputs": [],
   "source": [
    "# ------------ Beam source ----------------\n",
    "# Beam parameters\n",
    "sigmaz = 10e-2      #[m] -> 2 GHz\n",
    "q = 1e-9            #[C]\n",
    "beta = 1.0          # beam beta \n",
    "xs = 0.             # x source position [m]\n",
    "ys = 0.             # y source position [m]\n",
    "xt = 0.             # x test position [m]\n",
    "yt = 0.             # y test position [m]\n",
    "# [DEFAULT] tinj = 8.53*sigmaz/c_light  # injection time offset [s] \n",
    "\n",
    "# Simualtion\n",
    "wakelength = 10. #[m]\n",
    "add_space = 10   # no. cells\n",
    "\n",
    "wake = WakeSolver(q=q, sigmaz=sigmaz, beta=beta,\n",
    "            xsource=xs, ysource=ys, xtest=xt, ytest=yt,\n",
    "            add_space=add_space, save=False,\n",
    "            logfile=False)\n",
    "\n",
    "# ----------- Solver & Simulation ----------\n",
    "# boundary conditions``\n",
    "bc_low=['pec', 'pec', 'pec']\n",
    "bc_high=['pec', 'pec', 'pec']\n",
    "\n",
    "solver = SolverFIT3D(grid, wake, #dt=dt,\n",
    "                     bc_low=bc_low, bc_high=bc_high, \n",
    "                     use_stl=True, bg='pec')\n",
    "# Plot settings\n",
    "from matplotlib.colors import LinearSegmentedColormap\n",
    "cmap = LinearSegmentedColormap.from_list('name', plt.cm.jet(np.linspace(0.0, 0.9))) # CST's colormap\n",
    "\n",
    "# For plotting\n",
    "from wakis.sources import Beam\n",
    "beam = Beam(q=q, sigmaz=sigmaz, beta=beta,\n",
    "            xsource=xs, ysource=ys)"
   ]
  },
  {
   "cell_type": "markdown",
   "metadata": {},
   "source": [
    "Inspect the resulting material tensors, for example the permittivity $\\varepsilon ^{-1}$"
   ]
  },
  {
   "cell_type": "code",
   "execution_count": null,
   "metadata": {},
   "outputs": [],
   "source": [
    "solver.ieps.inspect(plane='XZ')"
   ]
  },
  {
   "cell_type": "markdown",
   "metadata": {},
   "source": [
    "Prepare 2D plot settings for on-the-fly plots"
   ]
  },
  {
   "cell_type": "code",
   "execution_count": null,
   "metadata": {},
   "outputs": [],
   "source": [
    "# Plot settings\n",
    "n=0\n",
    "from matplotlib.colors import LinearSegmentedColormap\n",
    "cmap = LinearSegmentedColormap.from_list('name', plt.cm.jet(np.linspace(0.05, 0.9))) # CST's colormap\n",
    "\n",
    "plotkw2D = {'title':'img/E_Abs_2d', \n",
    "            'add_patch':['cavity'], 'patch_alpha':0.9,\n",
    "            'patch_reverse' : True, \n",
    "            'vmin':0, 'vmax':700,\n",
    "            'interpolation' : 'gaussian',\n",
    "            'cmap' : 'turbo',\n",
    "            'plane': [slice(0, Nx), int(Ny/2), slice(0, Nz)]}\n",
    "\n",
    "#solver.plot2D('E', component='Abs', **plotkw2D, off_screen=True, n=n)"
   ]
  },
  {
   "cell_type": "markdown",
   "metadata": {},
   "source": [
    "Run a simulation generating plots every 20 timesteps after the beam has been injected (around timestep 600)"
   ]
  },
  {
   "cell_type": "code",
   "execution_count": null,
   "metadata": {},
   "outputs": [],
   "source": [
    "Nt = 880            \n",
    "for n in tqdm(range(Nt)):\n",
    "\n",
    "    beam.update(solver, n*solver.dt)\n",
    "    solver.one_step()\n",
    "\n",
    "    if n%20 == 0 and n>600:\n",
    "       solver.plot2D('E', component='Abs', **plotkw2D, off_screen=True, n=n)"
   ]
  },
  {
   "cell_type": "markdown",
   "metadata": {},
   "source": [
    "Convert the frames you generated into a gif with image-magick"
   ]
  },
  {
   "cell_type": "code",
   "execution_count": null,
   "metadata": {},
   "outputs": [],
   "source": [
    "!convert -delay 10 -loop 0 img/E_Abs_2d*.png CEI_logo.gif"
   ]
  },
  {
   "cell_type": "markdown",
   "metadata": {},
   "source": [
    "Once the simulation is finished, plot the result in a 3D plot:\n",
    "* Interpolating to the STL cavity\n",
    "* Or simply catting the simulation domain"
   ]
  },
  {
   "cell_type": "code",
   "execution_count": null,
   "metadata": {},
   "outputs": [],
   "source": [
    "solver.plot3DonSTL('E', component='Abs', cmap=cmap, clim=[0, 700],\n",
    "    stl_with_field='cavity', field_opacity=1.0,\n",
    "    stl_transparent=['letters'], stl_opacity=0.8, stl_colors='blue',\n",
    "    clip_plane=True, clip_normal='-y', clip_origin=[0,0,0],\n",
    "    off_screen=False, zoom=1.2, n=n, title='img/E_Abs_3d')"
   ]
  },
  {
   "cell_type": "code",
   "execution_count": null,
   "metadata": {},
   "outputs": [],
   "source": [
    "bounds = [xmin, xmax, 0, ymax, zmin, zmax]\n",
    "solver.plot3D('E', component='Abs', cmap=cmap, clim=[0, 1000],\n",
    "        add_stl='letters', stl_opacity=1.0, stl_colors='white',\n",
    "        clip_box=True, clip_bounds=bounds, \n",
    "        off_screen=True, zoom=1.2, n=n, title='005_lossy_fancy_cavity/misc/Ez3d0')"
   ]
  },
  {
   "cell_type": "markdown",
   "metadata": {},
   "source": [
    "You can also inspect the other components of the fields, e.g. the Electric field:"
   ]
  },
  {
   "cell_type": "code",
   "execution_count": null,
   "metadata": {},
   "outputs": [],
   "source": [
    "solver.E.inspect(cmap='bwr')"
   ]
  },
  {
   "cell_type": "code",
   "execution_count": null,
   "metadata": {},
   "outputs": [],
   "source": [
    "for n in tqdm(range(Nt,Nt+5)):\n",
    "\n",
    "    beam.update(solver, n*solver.dt)\n",
    "    solver.one_step()\n",
    "\n",
    "Nt +=5"
   ]
  },
  {
   "cell_type": "markdown",
   "metadata": {},
   "source": [
    "More plots in 2D:"
   ]
  },
  {
   "cell_type": "code",
   "execution_count": null,
   "metadata": {},
   "outputs": [],
   "source": [
    "# Plot settings\n",
    "from matplotlib.colors import LinearSegmentedColormap\n",
    "cmap = LinearSegmentedColormap.from_list('name', plt.cm.jet(np.linspace(0.05, 0.9))) # CST's colormap\n",
    "\n",
    "plotkw2D = {'title':'005_lossy_fancy_cavity/misc/Ez2dv2', \n",
    "            'add_patch':['cavity'], 'patch_alpha':0.9,\n",
    "            'patch_reverse' : True, \n",
    "            'vmin':0, 'vmax':700,\n",
    "            'interpolation' : 'gaussian',\n",
    "            'cmap' : cmap,\n",
    "            'plane': [slice(0, Nx), int(Ny/2), slice(0, Nz)]}\n",
    "\n",
    "solver.plot2D('E', component='Abs', **plotkw2D, off_screen=True, n=n)"
   ]
  },
  {
   "cell_type": "markdown",
   "metadata": {},
   "source": [
    "Run a few more timesteps if you want:"
   ]
  }
 ],
 "metadata": {
  "kernelspec": {
   "display_name": "wakis-env",
   "language": "python",
   "name": "python3"
  },
  "language_info": {
   "codemirror_mode": {
    "name": "ipython",
    "version": 3
   },
   "file_extension": ".py",
   "mimetype": "text/x-python",
   "name": "python",
   "nbconvert_exporter": "python",
   "pygments_lexer": "ipython3",
   "version": "3.11.11"
  }
 },
 "nbformat": 4,
 "nbformat_minor": 2
}
