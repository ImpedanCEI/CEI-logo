{
 "cells": [
  {
   "cell_type": "markdown",
   "metadata": {},
   "source": [
    "First things first:"
   ]
  },
  {
   "cell_type": "code",
   "execution_count": 2,
   "metadata": {},
   "outputs": [],
   "source": [
    "import sys\n",
    "import numpy as np\n",
    "import pyvista as pv\n",
    "import matplotlib.pyplot as plt\n",
    "from tqdm import tqdm\n",
    "\n",
    "sys.path.append('../wakis/')\n",
    "\n",
    "from wakis import SolverFIT3D\n",
    "from wakis import GridFIT3D \n",
    "from wakis import WakeSolver"
   ]
  },
  {
   "cell_type": "code",
   "execution_count": 3,
   "metadata": {},
   "outputs": [],
   "source": [
    "# For static images\n",
    "pv.set_jupyter_backend('html')"
   ]
  },
  {
   "cell_type": "markdown",
   "metadata": {},
   "source": [
    "Read and plot the geometry files:"
   ]
  },
  {
   "cell_type": "code",
   "execution_count": null,
   "metadata": {},
   "outputs": [
    {
     "data": {
      "application/vnd.jupyter.widget-view+json": {
       "model_id": "420398ade7ed4836aca7762a6f9a80d9",
       "version_major": 2,
       "version_minor": 0
      },
      "text/plain": [
       "EmbeddableWidget(value='<iframe srcdoc=\"<!DOCTYPE html>\\n<html>\\n  <head>\\n    <meta http-equiv=&quot;Content-…"
      ]
     },
     "metadata": {},
     "output_type": "display_data"
    }
   ],
   "source": [
    "# ---------- Domain setup ---------\n",
    "# Number of mesh cells\n",
    "Nx = 100\n",
    "Ny = 100\n",
    "Nz = 161\n",
    "#dt = 2.187760221e-12 # CST\n",
    "\n",
    "# Embedded boundaries\n",
    "stl_cavity = 'stl/cavity_vacuum.stl' \n",
    "stl_shell = 'stl/cavity_shell.stl'\n",
    "stl_letters = 'stl/CEI_heart_courier_new.stl'\n",
    "\n",
    "stl_solids = {'cavity': stl_cavity, \n",
    "              'shell': stl_shell,\n",
    "              'letters' : stl_letters}\n",
    "\n",
    "stl_materials = {'cavity': 'vacuum', \n",
    "                 'shell': [30, 1.0, 30],\n",
    "                 'letters' : 'pec'}\n",
    "\n",
    "stl_rotate = {'cavity': [0., 0., 0.],\n",
    "                'shell': [0., 0., 0.],\n",
    "                'letters' : [180, -90, 0]}\n",
    "\n",
    "stl_translate = {'cavity': [0., 0., 0.],\n",
    "                 'shell': [0., 0., 0.],\n",
    "                 'letters' : [-10, 0, 35]}\n",
    "\n",
    "\n",
    "stl_scale = {'cavity': [1., 1., 1.],\n",
    "                 'shell': [1., 1., 1.],\n",
    "                 'letters' : [0.7e-2, 0.4e-2, 0.4e-2]}\n",
    "\n",
    "# Domain bounds\n",
    "letters = pv.read(stl_letters) \\\n",
    "        .rotate_x(stl_rotate['letters'][0]) \\\n",
    "        .rotate_y(stl_rotate['letters'][1]) \\\n",
    "        .rotate_z(stl_rotate['letters'][2]) \\\n",
    "        .translate(stl_translate['letters']) \\\n",
    "        .scale(stl_scale['letters'])\n",
    "\n",
    "surf = pv.read(stl_shell)+letters"
   ]
  },
  {
   "cell_type": "markdown",
   "metadata": {},
   "source": [
    "Generate the simulation grid and inspect it:"
   ]
  },
  {
   "cell_type": "code",
   "execution_count": 6,
   "metadata": {},
   "outputs": [
    {
     "name": "stdout",
     "output_type": "stream",
     "text": [
      "Generating grid...\n",
      "Importing stl solids...\n"
     ]
    }
   ],
   "source": [
    "xmin, xmax, ymin, ymax, zmin, zmax = surf.bounds\n",
    "# set grid and geometry\n",
    "grid = GridFIT3D(xmin, xmax, ymin, ymax, zmin, zmax, Nx, Ny, Nz, \n",
    "                stl_solids=stl_solids, \n",
    "                stl_materials=stl_materials,\n",
    "                stl_scale=stl_scale,\n",
    "                stl_rotate=stl_rotate,\n",
    "                stl_translate=stl_translate)"
   ]
  },
  {
   "cell_type": "code",
   "execution_count": 7,
   "metadata": {},
   "outputs": [
    {
     "data": {
      "application/vnd.jupyter.widget-view+json": {
       "model_id": "2f4eeb06e05446fe941236931d1a4837",
       "version_major": 2,
       "version_minor": 0
      },
      "text/plain": [
       "EmbeddableWidget(value='<iframe srcdoc=\"<!DOCTYPE html>\\n<html>\\n  <head>\\n    <meta http-equiv=&quot;Content-…"
      ]
     },
     "metadata": {},
     "output_type": "display_data"
    }
   ],
   "source": [
    "grid.inspect()"
   ]
  },
  {
   "cell_type": "markdown",
   "metadata": {},
   "source": [
    "Define the wake and beam parameters:"
   ]
  },
  {
   "cell_type": "code",
   "execution_count": null,
   "metadata": {},
   "outputs": [
    {
     "name": "stdout",
     "output_type": "stream",
     "text": [
      "Assembling operator matrices...\n",
      "Applying boundary conditions...\n",
      "Adding material tensors...\n",
      "Calculating maximal stable timestep...\n",
      "Pre-computing...\n",
      "Total initialization time: 4.75523829460144 s\n"
     ]
    }
   ],
   "source": [
    "# ------------ Beam source ----------------\n",
    "# Beam parameters\n",
    "sigmaz = 10e-2      #[m] -> 2 GHz\n",
    "q = 1e-9            #[C]\n",
    "beta = 1.0          # beam beta \n",
    "xs = 0.             # x source position [m]\n",
    "ys = 0.             # y source position [m]\n",
    "xt = 0.             # x test position [m]\n",
    "yt = 0.             # y test position [m]\n",
    "# [DEFAULT] tinj = 8.53*sigmaz/c_light  # injection time offset [s] \n",
    "\n",
    "# Simualtion\n",
    "wakelength = 10. #[m]\n",
    "add_space = 10   # no. cells\n",
    "\n",
    "wake = WakeSolver(q=q, sigmaz=sigmaz, beta=beta,\n",
    "            xsource=xs, ysource=ys, xtest=xt, ytest=yt,\n",
    "            add_space=add_space, save=False,\n",
    "            logfile=False)"
   ]
  },
  {
   "cell_type": "markdown",
   "metadata": {},
   "source": [
    "Define the solver's boundary conditions, background"
   ]
  },
  {
   "cell_type": "code",
   "execution_count": null,
   "metadata": {},
   "outputs": [],
   "source": [
    "# ----------- Solver & Simulation ----------\n",
    "# boundary conditions``\n",
    "bc_low=['pec', 'pec', 'pec']\n",
    "bc_high=['pec', 'pec', 'pec']\n",
    "\n",
    "solver = SolverFIT3D(grid, wake, #dt=dt,\n",
    "                     bc_low=bc_low, bc_high=bc_high, \n",
    "                     use_stl=True, bg='pec')"
   ]
  },
  {
   "cell_type": "markdown",
   "metadata": {},
   "source": [
    "Inspect the resulting material tensors, for example the permittivity $\\varepsilon ^{-1}$"
   ]
  },
  {
   "cell_type": "code",
   "execution_count": 9,
   "metadata": {},
   "outputs": [
    {
     "data": {
      "image/png": "[encoded data removed]",
      "text/plain": [
       "<Figure size 800x600 with 6 Axes>"
      ]
     },
     "metadata": {},
     "output_type": "display_data"
    }
   ],
   "source": [
    "solver.ieps.inspect(plane='XZ')"
   ]
  },
  {
   "cell_type": "markdown",
   "metadata": {},
   "source": [
    "Prepare 2D plot settings for on-the-fly plots"
   ]
  },
  {
   "cell_type": "code",
   "execution_count": null,
   "metadata": {},
   "outputs": [],
   "source": [
    "# Plot settings\n",
    "n=0\n",
    "from matplotlib.colors import LinearSegmentedColormap\n",
    "cmap = LinearSegmentedColormap.from_list('name', plt.cm.jet(np.linspace(0.05, 0.9))) # CST's colormap\n",
    "\n",
    "plotkw2D = {'title':'img/E_z', \n",
    "            'add_patch':['cavity'], 'patch_alpha':0.9,\n",
    "            'patch_reverse' : True, \n",
    "            'vmin':0, 'vmax':700,\n",
    "            'interpolation' : 'gaussian',\n",
    "            'cmap' : cmap,\n",
    "            'plane': [slice(0, Nx), int(Ny/2), slice(0, Nz)]}\n",
    "\n",
    "#solver.plot2D('E', component='Abs', **plotkw2D, off_screen=True, n=n)"
   ]
  },
  {
   "cell_type": "markdown",
   "metadata": {},
   "source": [
    "Run the wakefield simulation with dedicated routine `wakesolve`"
   ]
  },
  {
   "cell_type": "markdown",
   "metadata": {},
   "source": []
  }
 ],
 "metadata": {
  "kernelspec": {
   "display_name": "wakis-env",
   "language": "python",
   "name": "python3"
  },
  "language_info": {
   "codemirror_mode": {
    "name": "ipython",
    "version": 3
   },
   "file_extension": ".py",
   "mimetype": "text/x-python",
   "name": "python",
   "nbconvert_exporter": "python",
   "pygments_lexer": "ipython3",
   "version": "3.11.11"
  }
 },
 "nbformat": 4,
 "nbformat_minor": 2
}
